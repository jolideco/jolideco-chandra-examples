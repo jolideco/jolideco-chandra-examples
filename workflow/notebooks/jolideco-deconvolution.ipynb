{
 "cells": [
  {
   "cell_type": "markdown",
   "id": "e8bacaaf",
   "metadata": {},
   "source": [
    "# Jolideco Analysis of Chandra Data of E0102"
   ]
  },
  {
   "cell_type": "code",
   "execution_count": null,
   "id": "f5fb5561",
   "metadata": {},
   "outputs": [],
   "source": [
    "#import os\n",
    "#os.environ['JOLIDECO_GMM_LIBRARY'] = '/Users/adonath/github/jolideco/jolideco-gmm-prior-library'"
   ]
  },
  {
   "cell_type": "code",
   "execution_count": null,
   "id": "0f81b802",
   "metadata": {},
   "outputs": [],
   "source": [
    "import numpy as np\n",
    "from pathlib import Path\n",
    "from matplotlib import pyplot as plt\n",
    "import matplotlib as mpl\n",
    "from astropy.visualization import simple_norm\n",
    "from astropy.wcs.wcs import FITSFixedWarning\n",
    "from jolideco.core import MAPDeconvolver\n",
    "from jolideco.utils.numpy import split_datasets_validation\n",
    "from jolideco.models import (\n",
    "    SpatialFluxComponent,\n",
    "    FluxComponents,\n",
    "    NPredCalibration,\n",
    "    NPredCalibrations\n",
    ")\n",
    "from jolideco.priors import GMMPatchPrior, GaussianMixtureModel\n",
    "from jolideco.utils.norms import IdentityImageNorm\n",
    "from itertools import zip_longest\n",
    "from gammapy.maps import Map\n",
    "import torch"
   ]
  },
  {
   "cell_type": "code",
   "execution_count": null,
   "id": "22935220",
   "metadata": {},
   "outputs": [],
   "source": [
    "import warnings\n",
    "warnings.filterwarnings(\"ignore\", category=FITSFixedWarning)"
   ]
  },
  {
   "cell_type": "code",
   "execution_count": null,
   "id": "ffce8234",
   "metadata": {},
   "outputs": [],
   "source": [
    "# for vscode dark theme\n",
    "plt.style.use('dark_background')\n",
    "mpl.rcParams['figure.facecolor'] = '#25292E'\n"
   ]
  },
  {
   "cell_type": "code",
   "execution_count": null,
   "id": "5b53a56c",
   "metadata": {},
   "outputs": [],
   "source": [
    "if \"snakemake\" in globals():\n",
    "    filenames = [Path(_) for _ in snakemake.input]\n",
    "    filename_jolideco_result = Path(snakemake.output.filename_jolideco_result)\n",
    "    filename_npred_stacked = Path(snakemake.output.filename_npred_stacked)\n",
    "else:\n",
    "    config_name = \"e0102-broadband\"\n",
    "    PATH_BASE = Path(f\"../../results/{config_name}/\")\n",
    "    filenames = (PATH_BASE / \"input\").glob(\"*.fits\")\n",
    "    filename_jolideco_result = PATH_BASE / \"jolideco\" / f\"{config_name}-result-jolideco.fits\"\n",
    "    filename_npred_stacked = PATH_BASE / \"jolideco\" / \"{config_name}-npred.fits\"\n",
    "\n",
    "obs_id_ref = 8365"
   ]
  },
  {
   "cell_type": "code",
   "execution_count": null,
   "id": "2b0f1073",
   "metadata": {},
   "outputs": [],
   "source": [
    "device = \"cuda:0\" if torch.cuda.is_available() else \"cpu\""
   ]
  },
  {
   "cell_type": "code",
   "execution_count": null,
   "id": "9594bae7",
   "metadata": {},
   "outputs": [],
   "source": [
    "#filenames = list(Path(\"../../results/e0102-broadband/\").glob(\"*/maps/*-counts.fits\"))"
   ]
  },
  {
   "cell_type": "code",
   "execution_count": null,
   "id": "458b46fa",
   "metadata": {},
   "outputs": [],
   "source": [
    "datasets = {}\n",
    "\n",
    "def read_dataset(filename_counts):\n",
    "    \"\"\"Read counts, exposure and psf maps.\"\"\"\n",
    "    filename_exposure = filename_counts.parent / filename_counts.name.replace(\"counts\", \"exposure\")\n",
    "    filename_psf = filename_counts.parent / filename_counts.name.replace(\"counts\", \"e0102-marx-psf\")\n",
    "    counts = Map.read(filename_counts)    \n",
    "\n",
    "    psf = Map.read(filename_psf)\n",
    "    psf = psf.cutout(psf.geom.center_skydir, width=\"10 arcsec\")\n",
    "    psf.data /= psf.data.sum()\n",
    "    return {\n",
    "        \"counts\": counts,\n",
    "        \"exposure\": Map.read(filename_exposure),\n",
    "        \"psf\": psf,\n",
    "        \"background\": Map.from_geom(counts.geom) + 1e-2,\n",
    "    }\n",
    "\n",
    "\n",
    "\n",
    "for filename in filenames:\n",
    "    obs_id = filename.parts[-3]\n",
    "    datasets[f\"obs-id-{obs_id}\"] = read_dataset(filename)\n"
   ]
  },
  {
   "attachments": {},
   "cell_type": "markdown",
   "id": "66cf8a5a",
   "metadata": {},
   "source": [
    "## Counts"
   ]
  },
  {
   "cell_type": "code",
   "execution_count": null,
   "id": "0254b8b0",
   "metadata": {},
   "outputs": [],
   "source": [
    "stacked = Map.from_geom(datasets[f\"obs-id-{obs_id_ref}\"][\"counts\"].geom)\n",
    "\n",
    "for name, dataset in datasets.items():\n",
    "    stacked += dataset[\"counts\"]"
   ]
  },
  {
   "cell_type": "code",
   "execution_count": null,
   "id": "67e15d10",
   "metadata": {},
   "outputs": [],
   "source": [
    "stacked.plot(cmap=\"viridis\", add_cbar=True);"
   ]
  },
  {
   "cell_type": "markdown",
   "id": "3db3b196",
   "metadata": {},
   "source": [
    "## PSF"
   ]
  },
  {
   "cell_type": "code",
   "execution_count": null,
   "id": "0bd29f06",
   "metadata": {},
   "outputs": [],
   "source": [
    "wcs = datasets[f\"obs-id-{obs_id_ref}\"][\"psf\"].geom.wcs\n",
    "\n",
    "fig, axes = plt.subplots(\n",
    "    ncols=5,\n",
    "    nrows=5,\n",
    "    subplot_kw={\"projection\": wcs},\n",
    "    figsize=(12, 12)\n",
    ")\n",
    "\n",
    "for ax, (name, dataset) in zip(axes.flat, datasets.items()):\n",
    "    psf = dataset[\"psf\"]\n",
    "    psf.plot(ax=ax, cmap=\"viridis\", add_cbar=True, stretch=\"log\", vmin=0)\n",
    "    ax.set_title(f\"{name}\")\n",
    "    ax.axis(\"off\")\n",
    "\n",
    "#plt.savefig(\"/Users/adonath/Desktop/psfs-e0102.png\", dpi=300)"
   ]
  },
  {
   "cell_type": "code",
   "execution_count": null,
   "id": "835d6175",
   "metadata": {},
   "outputs": [],
   "source": [
    "def to_jolideco_dataset(maps, dtype=np.float32):\n",
    "    \"\"\"Convert Gammapy maps to Jolideco dataset.\"\"\"\n",
    "    return {\n",
    "        \"counts\": maps[\"counts\"].data.astype(dtype),\n",
    "        \"background\": maps[\"background\"].data.astype(dtype),\n",
    "        \"psf\": {\"e0102\": maps[\"psf\"].data.astype(dtype)},\n",
    "        \"exposure\": maps[\"exposure\"].data.astype(dtype),\n",
    "    }"
   ]
  },
  {
   "cell_type": "code",
   "execution_count": null,
   "id": "cbc2a6d3",
   "metadata": {},
   "outputs": [],
   "source": [
    "datasets_jolideco = {name: to_jolideco_dataset(maps) for name, maps in datasets.items()}"
   ]
  },
  {
   "cell_type": "markdown",
   "id": "80aa55ef",
   "metadata": {},
   "source": [
    "## Run Jolideco"
   ]
  },
  {
   "cell_type": "code",
   "execution_count": null,
   "id": "727e9a30",
   "metadata": {},
   "outputs": [],
   "source": [
    "gmm = GaussianMixtureModel.from_registry(\"jwst-cas-a-v0.1\")\n",
    "gmm.meta.stride = 4\n",
    "print(gmm)"
   ]
  },
  {
   "cell_type": "code",
   "execution_count": null,
   "id": "94fda164",
   "metadata": {},
   "outputs": [],
   "source": [
    "gmm.plot_mean_images(ncols=16, figsize=(12, 8))"
   ]
  },
  {
   "cell_type": "code",
   "execution_count": null,
   "id": "b75aef1a",
   "metadata": {},
   "outputs": [],
   "source": [
    "patch_prior = GMMPatchPrior(\n",
    "    gmm=gmm,\n",
    "    cycle_spin=True,\n",
    "    cycle_spin_subpix=True,\n",
    "    norm=IdentityImageNorm(),\n",
    "    device=device,\n",
    ")\n",
    "\n",
    "\n",
    "shape = datasets_jolideco[f\"obs-id-{obs_id_ref}\"][\"counts\"].shape\n",
    "flux_init = np.random.normal(loc=3, scale=0.01, size=shape).astype(np.float32)\n",
    "\n",
    "component = SpatialFluxComponent.from_numpy(\n",
    "    flux=flux_init,\n",
    "    prior=patch_prior,\n",
    "    use_log_flux=True,\n",
    "    upsampling_factor=2,\n",
    ")\n",
    "\n",
    "\n",
    "components = FluxComponents()\n",
    "components[\"e0102\"] = component\n",
    "\n",
    "print(components)"
   ]
  },
  {
   "cell_type": "code",
   "execution_count": null,
   "id": "f4434945",
   "metadata": {},
   "outputs": [],
   "source": [
    "calibrations = NPredCalibrations()\n",
    "\n",
    "for name in datasets_jolideco:\n",
    "    calibration = NPredCalibration(background_norm=1., frozen=False)\n",
    "    calibrations[name] = calibration\n",
    "\n",
    "\n",
    "calibrations[f\"obs-id-{obs_id_ref}\"].shift_xy.requires_grad = False\n",
    "\n",
    "print(calibrations)"
   ]
  },
  {
   "cell_type": "code",
   "execution_count": null,
   "id": "023bf20d",
   "metadata": {},
   "outputs": [],
   "source": [
    "deconvolve = MAPDeconvolver(n_epochs=250, learning_rate=0.1, beta=1., device=device)\n",
    "print(deconvolve)"
   ]
  },
  {
   "cell_type": "code",
   "execution_count": null,
   "id": "855f5c2d",
   "metadata": {},
   "outputs": [],
   "source": [
    "datasets_train = split_datasets_validation(datasets_jolideco, n_validation=0)"
   ]
  },
  {
   "cell_type": "code",
   "execution_count": null,
   "id": "71e75343",
   "metadata": {},
   "outputs": [],
   "source": [
    "result = deconvolve.run(\n",
    "    components=components,\n",
    "    calibrations=calibrations,\n",
    "    **datasets_train,\n",
    ")"
   ]
  },
  {
   "cell_type": "code",
   "execution_count": null,
   "id": "786e2534",
   "metadata": {},
   "outputs": [],
   "source": [
    "result.write(filename_jolideco_result, overwrite=True)"
   ]
  },
  {
   "cell_type": "code",
   "execution_count": null,
   "id": "d93e72b9",
   "metadata": {},
   "outputs": [],
   "source": [
    "import sys\n",
    "sys.exit()"
   ]
  },
  {
   "cell_type": "code",
   "execution_count": null,
   "id": "a3ebda10",
   "metadata": {},
   "outputs": [],
   "source": [
    "plt.figure(figsize=(12, 8))\n",
    "result.plot_trace_loss()\n",
    "plt.legend(loc=\"upper center\", ncols=4)"
   ]
  },
  {
   "cell_type": "markdown",
   "id": "7deb480d",
   "metadata": {},
   "source": [
    "## Results"
   ]
  },
  {
   "cell_type": "code",
   "execution_count": null,
   "id": "7f0e4523",
   "metadata": {},
   "outputs": [],
   "source": [
    "counts = np.sum([_[\"counts\"] for _ in datasets_jolideco.values()], axis=0)\n",
    "\n",
    "fig, axes = plt.subplots(\n",
    "    ncols=2,\n",
    "    subplot_kw={\"projection\": wcs},\n",
    "    figsize=(14, 6)\n",
    ")\n",
    "\n",
    "norm_asinh = simple_norm(\n",
    "    counts,\n",
    "    min_cut=0,\n",
    "    max_cut=4,\n",
    "    stretch=\"power\",\n",
    "    power=1.,\n",
    "    asinh_a=0.05\n",
    ")\n",
    "\n",
    "\n",
    "\n",
    "im = axes[0].imshow(counts, origin=\"lower\", interpolation=\"None\")\n",
    "axes[0].set_title(\"Counts\")\n",
    "plt.colorbar(im);\n",
    "\n",
    "im = axes[1].imshow(result.components.flux_upsampled_total_numpy, origin=\"lower\", norm=norm_asinh, interpolation=\"gaussian\")\n",
    "axes[1].set_title(\"Deconvolved\");\n",
    "plt.colorbar(im);\n",
    "#plt.savefig(\"/Users/adonath/Desktop/deconvolved.png\", dpi=300)\n"
   ]
  },
  {
   "cell_type": "code",
   "execution_count": null,
   "id": "8b92a26c",
   "metadata": {},
   "outputs": [],
   "source": [
    "print(calibrations)"
   ]
  },
  {
   "cell_type": "markdown",
   "id": "a104aa54",
   "metadata": {},
   "source": [
    "## Residuals"
   ]
  },
  {
   "cell_type": "code",
   "execution_count": null,
   "id": "194ca768",
   "metadata": {},
   "outputs": [],
   "source": [
    "geom = datasets[f\"obs-id-{obs_id_ref}\"][\"counts\"].geom"
   ]
  },
  {
   "cell_type": "code",
   "execution_count": null,
   "id": "6d40e6eb",
   "metadata": {},
   "outputs": [],
   "source": [
    "npreds = {}\n",
    "\n",
    "for name, dataset in datasets_jolideco.items():\n",
    "    model = NPredModels.from_dataset_numpy(\n",
    "        dataset=dataset,\n",
    "        components=result.components,\n",
    "    )\n",
    "    \n",
    "    fluxes = result.components.to_flux_tuple()\n",
    "    npred = model.evaluate(fluxes=fluxes).detach().numpy()[0, 0]\n",
    "    npreds[name] =  Map.from_geom(data=npred, geom=geom)\n",
    "    \n",
    "\n",
    "npreds_calibrated = {}\n",
    "\n",
    "for name, dataset in datasets_jolideco.items():\n",
    "    model = NPredModels.from_dataset_numpy(\n",
    "        dataset=dataset,\n",
    "        components=result.components,\n",
    "        calibration=calibrations[name]\n",
    "    )\n",
    "    \n",
    "    fluxes = result.components.to_flux_tuple()\n",
    "    npred = model.evaluate(fluxes=fluxes).detach().numpy()[0, 0]\n",
    "    npreds_calibrated[name] = Map.from_geom(data=npred, geom=geom)\n",
    "    "
   ]
  },
  {
   "cell_type": "code",
   "execution_count": null,
   "id": "ed6dc3cb",
   "metadata": {},
   "outputs": [],
   "source": [
    "npred_stacked = Map.from_geom(geom=geom)\n",
    "\n",
    "for npred in npreds_calibrated.values():\n",
    "    npred_stacked.stack(npred)\n",
    "\n",
    "\n",
    "npred_stacked.write(filename_npred_stacked, overwrite=True)"
   ]
  },
  {
   "cell_type": "code",
   "execution_count": null,
   "id": "214a7cea",
   "metadata": {},
   "outputs": [],
   "source": [
    "fig, axes = plt.subplots(\n",
    "    ncols=5,\n",
    "    nrows=5,\n",
    "    subplot_kw={\"projection\": wcs},\n",
    "    gridspec_kw={\"wspace\": 0.2},\n",
    "    figsize=(16, 16)\n",
    ")\n",
    "\n",
    "\n",
    "for name, ax in zip_longest(sorted(datasets_jolideco), axes.flat):\n",
    "    if name is None:\n",
    "        ax.set_visible(False)\n",
    "        continue\n",
    "        \n",
    "    dataset = datasets[name]\n",
    "    counts = dataset[\"counts\"].sum_over_axes(keepdims=False).smooth(5)\n",
    "    npred = npreds[name].smooth(5)\n",
    "    \n",
    "    residual = (counts - npred) / np.sqrt(npred)\n",
    "    \n",
    "    residual.plot(ax=ax, vmin=-0.5, vmax=0.5, cmap=\"RdBu\", add_cbar=True)\n",
    "    ax.set_title(f\"{name}\")"
   ]
  },
  {
   "cell_type": "code",
   "execution_count": null,
   "id": "c56ec67c",
   "metadata": {},
   "outputs": [],
   "source": [
    "fig, axes = plt.subplots(\n",
    "    ncols=5,\n",
    "    nrows=5,\n",
    "    subplot_kw={\"projection\": wcs},\n",
    "    gridspec_kw={\"wspace\": 0.2},\n",
    "    figsize=(16, 16)\n",
    ")\n",
    "\n",
    "\n",
    "for name, ax in zip_longest(sorted(datasets_jolideco), axes.flat):\n",
    "    if name is None:\n",
    "        ax.set_visible(False)\n",
    "        continue\n",
    "        \n",
    "    dataset = datasets[name]\n",
    "    counts = dataset[\"counts\"].sum_over_axes(keepdims=False).smooth(5)\n",
    "    npred = npreds_calibrated[name].smooth(5)\n",
    "    \n",
    "    residual = (counts - npred) / np.sqrt(npred)\n",
    "    \n",
    "    residual.plot(ax=ax, vmin=-0.5, vmax=0.5, cmap=\"RdBu\", add_cbar=True)\n",
    "    ax.set_title(f\"{name}\")"
   ]
  },
  {
   "cell_type": "code",
   "execution_count": null,
   "id": "a2e183a6",
   "metadata": {},
   "outputs": [],
   "source": [
    "print(result.calibrations)"
   ]
  },
  {
   "cell_type": "code",
   "execution_count": null,
   "id": "71cedf26",
   "metadata": {},
   "outputs": [],
   "source": []
  }
 ],
 "metadata": {
  "kernelspec": {
   "display_name": "jolideco-fermi-examples",
   "language": "python",
   "name": "python3"
  },
  "language_info": {
   "codemirror_mode": {
    "name": "ipython",
    "version": 3
   },
   "file_extension": ".py",
   "mimetype": "text/x-python",
   "name": "python",
   "nbconvert_exporter": "python",
   "pygments_lexer": "ipython3",
   "version": "3.9.16"
  },
  "vscode": {
   "interpreter": {
    "hash": "963c1a1f1b17d219f498225414ad7aa739a910503c9d7055e7f4a2193586c85e"
   }
  }
 },
 "nbformat": 4,
 "nbformat_minor": 5
}
